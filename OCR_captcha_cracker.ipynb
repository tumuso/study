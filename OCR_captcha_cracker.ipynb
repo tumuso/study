{
  "nbformat": 4,
  "nbformat_minor": 0,
  "metadata": {
    "colab": {
      "name": "OCR_captcha_cracker.ipynb",
      "provenance": [],
      "collapsed_sections": []
    },
    "kernelspec": {
      "name": "python3",
      "display_name": "Python 3"
    },
    "language_info": {
      "name": "python"
    },
    "accelerator": "GPU"
  },
  "cells": [
    {
      "cell_type": "code",
      "source": [
        "CNN + RNN ( LSTM )  CTC loss로 학습"
      ],
      "metadata": {
        "id": "F_Fi6VWQPuj9"
      },
      "execution_count": null,
      "outputs": []
    },
    {
      "cell_type": "code",
      "execution_count": 1,
      "metadata": {
        "colab": {
          "base_uri": "https://localhost:8080/"
        },
        "id": "c-jmDnv2Ofgp",
        "outputId": "0d5995fa-2262-46f0-a712-65f9f54f0444"
      },
      "outputs": [
        {
          "output_type": "stream",
          "name": "stdout",
          "text": [
            "Wed Feb 23 11:00:20 2022       \n",
            "+-----------------------------------------------------------------------------+\n",
            "| NVIDIA-SMI 460.32.03    Driver Version: 460.32.03    CUDA Version: 11.2     |\n",
            "|-------------------------------+----------------------+----------------------+\n",
            "| GPU  Name        Persistence-M| Bus-Id        Disp.A | Volatile Uncorr. ECC |\n",
            "| Fan  Temp  Perf  Pwr:Usage/Cap|         Memory-Usage | GPU-Util  Compute M. |\n",
            "|                               |                      |               MIG M. |\n",
            "|===============================+======================+======================|\n",
            "|   0  Tesla P100-PCIE...  Off  | 00000000:00:04.0 Off |                    0 |\n",
            "| N/A   41C    P0    28W / 250W |      0MiB / 16280MiB |      0%      Default |\n",
            "|                               |                      |                  N/A |\n",
            "+-------------------------------+----------------------+----------------------+\n",
            "                                                                               \n",
            "+-----------------------------------------------------------------------------+\n",
            "| Processes:                                                                  |\n",
            "|  GPU   GI   CI        PID   Type   Process name                  GPU Memory |\n",
            "|        ID   ID                                                   Usage      |\n",
            "|=============================================================================|\n",
            "|  No running processes found                                                 |\n",
            "+-----------------------------------------------------------------------------+\n"
          ]
        }
      ],
      "source": [
        "!nvidia-smi"
      ]
    },
    {
      "cell_type": "code",
      "source": [
        "import os\n",
        "import cv2\n",
        "from glob import glob\n",
        "import numpy as np\n",
        "import matplotlib.pyplot as plt\n",
        "import tensorflow as tf\n",
        "from tensorflow import keras\n",
        "from tensorflow.keras import layers"
      ],
      "metadata": {
        "id": "0Iqlln5vPUVK"
      },
      "execution_count": 2,
      "outputs": []
    },
    {
      "cell_type": "markdown",
      "source": [
        "image label은 file명"
      ],
      "metadata": {
        "id": "jKn05AMPQG00"
      }
    },
    {
      "cell_type": "code",
      "source": [
        "!wget https://github.com/AakashKumarNain/CaptchaCracker/raw/master/captcha_images_v2.zip\n",
        "!unzip -q captcha_images_v2.zip"
      ],
      "metadata": {
        "colab": {
          "base_uri": "https://localhost:8080/"
        },
        "id": "RBsIlYFyPUXk",
        "outputId": "4473d4a6-7794-4d49-d0dd-4dc3c081613c"
      },
      "execution_count": 3,
      "outputs": [
        {
          "output_type": "stream",
          "name": "stdout",
          "text": [
            "--2022-02-23 11:04:03--  https://github.com/AakashKumarNain/CaptchaCracker/raw/master/captcha_images_v2.zip\n",
            "Resolving github.com (github.com)... 192.30.255.112\n",
            "Connecting to github.com (github.com)|192.30.255.112|:443... connected.\n",
            "HTTP request sent, awaiting response... 302 Found\n",
            "Location: https://raw.githubusercontent.com/AakashKumarNain/CaptchaCracker/master/captcha_images_v2.zip [following]\n",
            "--2022-02-23 11:04:04--  https://raw.githubusercontent.com/AakashKumarNain/CaptchaCracker/master/captcha_images_v2.zip\n",
            "Resolving raw.githubusercontent.com (raw.githubusercontent.com)... 185.199.108.133, 185.199.109.133, 185.199.110.133, ...\n",
            "Connecting to raw.githubusercontent.com (raw.githubusercontent.com)|185.199.108.133|:443... connected.\n",
            "HTTP request sent, awaiting response... 200 OK\n",
            "Length: 9075967 (8.7M) [application/zip]\n",
            "Saving to: ‘captcha_images_v2.zip’\n",
            "\n",
            "captcha_images_v2.z 100%[===================>]   8.66M  --.-KB/s    in 0.07s   \n",
            "\n",
            "2022-02-23 11:04:05 (122 MB/s) - ‘captcha_images_v2.zip’ saved [9075967/9075967]\n",
            "\n"
          ]
        }
      ]
    },
    {
      "cell_type": "code",
      "source": [
        "img_list = glob('captcha_images_v2/*.png')\n",
        "len(img_list)\n",
        "print(img_list[:10])"
      ],
      "metadata": {
        "colab": {
          "base_uri": "https://localhost:8080/"
        },
        "id": "HD18ylitPUZQ",
        "outputId": "83e166c7-026c-49e7-cf9b-14c553ef6f64"
      },
      "execution_count": 5,
      "outputs": [
        {
          "output_type": "stream",
          "name": "stdout",
          "text": [
            "['captcha_images_v2/ggd7m.png', 'captcha_images_v2/bgd4m.png', 'captcha_images_v2/yx2d4.png', 'captcha_images_v2/33f7m.png', 'captcha_images_v2/mye68.png', 'captcha_images_v2/xf4p4.png', 'captcha_images_v2/75pfw.png', 'captcha_images_v2/x3deb.png', 'captcha_images_v2/445cc.png', 'captcha_images_v2/58pnp.png']\n"
          ]
        }
      ]
    },
    {
      "cell_type": "code",
      "source": [
        "img = cv2.imread(img_list[0])\n",
        "\n",
        "#os.path.basename : 경로 이름 \n",
        "label = os.path.splitext(os.path.basename(img_list[0]))[0]\n",
        "\n",
        "# 예시로 하나 꺼내와서 확인하기\n",
        "plt.title(label)\n",
        "plt.imshow(img)"
      ],
      "metadata": {
        "colab": {
          "base_uri": "https://localhost:8080/",
          "height": 166
        },
        "id": "x9AtmALgPUbc",
        "outputId": "87decc5b-ba96-4914-d8bb-d286241b778f"
      },
      "execution_count": 6,
      "outputs": [
        {
          "output_type": "execute_result",
          "data": {
            "text/plain": [
              "<matplotlib.image.AxesImage at 0x7f1810852bd0>"
            ]
          },
          "metadata": {},
          "execution_count": 6
        },
        {
          "output_type": "display_data",
          "data": {
            "image/png": "[encoded data removed]",
            "text/plain": [
              "<Figure size 432x288 with 1 Axes>"
            ]
          },
          "metadata": {
            "needs_background": "light"
          }
        }
      ]
    },
    {
      "cell_type": "markdown",
      "source": [
        "# 전처리 \n"
      ],
      "metadata": {
        "id": "1HEsWexkYorw"
      }
    },
    {
      "cell_type": "code",
      "source": [
        "imgs = []\n",
        "labels = []\n",
        "max_length = 0\n",
        "\n",
        "for img_path in img_list:\n",
        "  imgs.append(img_path) #이미지 그대로 append\n",
        "\n",
        "   #split 해서 png 빼고 앞에 label만 가져오기\n",
        "  label = os.path.splitext(os.path.basename(img_path))[0]\n",
        "  labels.append(label)\n",
        "\n",
        "  if len(label) > max_length:\n",
        "    max_length = len(label)\n",
        "\n",
        "\n",
        "print(len(imgs), len(labels), max_length)"
      ],
      "metadata": {
        "colab": {
          "base_uri": "https://localhost:8080/"
        },
        "id": "y9zBKHS1PUdk",
        "outputId": "f62e376f-1c5a-434f-cdd4-8667e719598d"
      },
      "execution_count": 36,
      "outputs": [
        {
          "output_type": "stream",
          "name": "stdout",
          "text": [
            "1040 1040 5\n"
          ]
        }
      ]
    },
    {
      "cell_type": "code",
      "source": [
        "# label unique 추출하기 위해 join 후 set\n",
        "\n",
        "''.join(labels)"
      ],
      "metadata": {
        "colab": {
          "base_uri": "https://localhost:8080/",
          "height": 199
        },
        "id": "3zjckzEDPUfc",
        "outputId": "a9b7204b-4708-4129-be16-f67e3776831c"
      },
      "execution_count": 8,
      "outputs": [
        {
          "output_type": "execute_result",
          "data": {
            "application/vnd.google.colaboratory.intrinsic+json": {
              "type": "string"
            },
            "text/plain": [
              "'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'"
            ]
          },
          "metadata": {},
          "execution_count": 8
        }
      ]
    },
    {
      "cell_type": "code",
      "source": [
        "characters = set(''.join(labels))\n",
        "print(characters)\n",
        "len(characters)"
      ],
      "metadata": {
        "colab": {
          "base_uri": "https://localhost:8080/"
        },
        "id": "Bb1lv2tLPUhS",
        "outputId": "efdeb284-aa47-4350-d8a8-66aac10a76a3"
      },
      "execution_count": 10,
      "outputs": [
        {
          "output_type": "stream",
          "name": "stdout",
          "text": [
            "{'f', 'b', '7', '8', 'e', 'x', 'd', '5', 'w', '6', 'g', 'y', 'p', '4', '2', 'c', 'm', 'n', '3'}\n"
          ]
        },
        {
          "output_type": "execute_result",
          "data": {
            "text/plain": [
              "19"
            ]
          },
          "metadata": {},
          "execution_count": 10
        }
      ]
    },
    {
      "cell_type": "markdown",
      "source": [
        "# model 학습 위해 label의 문자 encode"
      ],
      "metadata": {
        "id": "q3eleSZzZvAo"
      }
    },
    {
      "cell_type": "code",
      "source": [
        "# keras의 StringLookup은 스트링 --> 숫자로 \n",
        "char_to_num = layers.experimental.preprocessing.StringLookup(\n",
        "    vocabulary=list(characters) , num_oov_indices=0 , mask_token=None\n",
        ")\n",
        "\n",
        "num_to_char = layers.experimental.preprocessing.StringLookup(\n",
        "    vocabulary=char_to_num.get_vocabulary() , num_oov_indices=0 , mask_token=None , invert=True\n",
        ")\n",
        "\n",
        "print(labels[0])\n",
        "\n",
        "# label 하나하나 쪼개서 utf-8로 encoding\n",
        "\n",
        "encoded = char_to_num(tf.strings.unicode_split(labels[0] , input_encoding='UTF-8'))\n",
        "print(encoded)\n"
      ],
      "metadata": {
        "colab": {
          "base_uri": "https://localhost:8080/"
        },
        "id": "HoYyaBfHPUjU",
        "outputId": "3633520b-b6d2-4af5-863b-9fba925322a1"
      },
      "execution_count": 11,
      "outputs": [
        {
          "output_type": "stream",
          "name": "stderr",
          "text": [
            "/usr/local/lib/python3.7/dist-packages/numpy/core/numeric.py:2446: FutureWarning: elementwise comparison failed; returning scalar instead, but in the future will perform elementwise comparison\n",
            "  return bool(asarray(a1 == a2).all())\n"
          ]
        },
        {
          "output_type": "stream",
          "name": "stdout",
          "text": [
            "ggd7m\n",
            "tf.Tensor([10 10  6  2 16], shape=(5,), dtype=int64)\n"
          ]
        }
      ]
    },
    {
      "cell_type": "code",
      "source": [
        "# encode 된 label을 다시 num_to_char로 바꾼 다음에 reduce_join, numpy 말고 string출력 위해 decode\n",
        "tf.strings.reduce_join(num_to_char(encoded)).numpy().decode('utf-8')"
      ],
      "metadata": {
        "colab": {
          "base_uri": "https://localhost:8080/",
          "height": 36
        },
        "id": "0vc_P1zPPUlr",
        "outputId": "b48ca5c8-4dda-4252-9526-1bde1bdad52c"
      },
      "execution_count": 12,
      "outputs": [
        {
          "output_type": "execute_result",
          "data": {
            "application/vnd.google.colaboratory.intrinsic+json": {
              "type": "string"
            },
            "text/plain": [
              "'ggd7m'"
            ]
          },
          "metadata": {},
          "execution_count": 12
        }
      ]
    },
    {
      "cell_type": "markdown",
      "source": [
        "# Dataset "
      ],
      "metadata": {
        "id": "eEhQElblbph9"
      }
    },
    {
      "cell_type": "code",
      "source": [
        "from sklearn.model_selection import train_test_split\n",
        "\n",
        "x_train, x_val, y_train, y_val = train_test_split(imgs, labels, test_size=0.1, random_state=2727)\n",
        "\n",
        "print(len(x_train), len(y_train))\n",
        "print(len(x_val), len(y_val))"
      ],
      "metadata": {
        "colab": {
          "base_uri": "https://localhost:8080/"
        },
        "id": "CgLQVPGNPUnN",
        "outputId": "2b0dbabf-997d-47fc-f2d4-46e5677d83e2"
      },
      "execution_count": 15,
      "outputs": [
        {
          "output_type": "stream",
          "name": "stdout",
          "text": [
            "936 936\n",
            "104 104\n"
          ]
        }
      ]
    },
    {
      "cell_type": "markdown",
      "source": [
        "# data gernerator 생성"
      ],
      "metadata": {
        "id": "n1Mrvq3JcRSe"
      }
    },
    {
      "cell_type": "code",
      "source": [
        "img_width = 200\n",
        "img_height = 50\n",
        "\n",
        "def encode_single_sample(img_path, label):\n",
        "  img = tf.io.read_file(img_path)\n",
        "\n",
        "  img = tf.io.decode_png(img, channels=1)\n",
        "\n",
        "  img = tf.image.convert_image_dtype(img, tf.float32)\n",
        "\n",
        "  img = tf.image.resize(img , [img_height, img_width])\n",
        "  #세로로 한글자씩 lstm으로 읽기 위해서 tranpose\n",
        "  img = tf.transpose(img , perm=[1,0,2])\n",
        "  label = char_to_num(tf.strings.unicode_split(label, input_encoding='UTF-8'))\n",
        "\n",
        "  return {'image' : img , 'label':label}\n",
        "\n",
        "preview = encode_single_sample(imgs[0] , labels[0])\n",
        "\n",
        "#np.squeeze -- > 축제거\n",
        "plt.title(str(preview['label'].numpy()))\n",
        "plt.imshow(preview['image'].numpy().squeeze())"
      ],
      "metadata": {
        "colab": {
          "base_uri": "https://localhost:8080/",
          "height": 300
        },
        "id": "67rddmX7bsMk",
        "outputId": "93374197-04ca-4ca9-c7bf-4512e5c49fa3"
      },
      "execution_count": 17,
      "outputs": [
        {
          "output_type": "execute_result",
          "data": {
            "text/plain": [
              "<matplotlib.image.AxesImage at 0x7f177c8db290>"
            ]
          },
          "metadata": {},
          "execution_count": 17
        },
        {
          "output_type": "display_data",
          "data": {
            "image/png": "[encoded data removed]",
            "text/plain": [
              "<Figure size 432x288 with 1 Axes>"
            ]
          },
          "metadata": {
            "needs_background": "light"
          }
        }
      ]
    },
    {
      "cell_type": "code",
      "source": [
        "x_train[:10]"
      ],
      "metadata": {
        "colab": {
          "base_uri": "https://localhost:8080/"
        },
        "id": "dauZL0mDg2Rj",
        "outputId": "e895923f-133b-4854-af58-d84a6e0ccdd6"
      },
      "execution_count": 22,
      "outputs": [
        {
          "output_type": "execute_result",
          "data": {
            "text/plain": [
              "['captcha_images_v2/7cgym.png',\n",
              " 'captcha_images_v2/268g2.png',\n",
              " 'captcha_images_v2/b5pnn.png',\n",
              " 'captcha_images_v2/5pm6b.png',\n",
              " 'captcha_images_v2/mdxpn.png',\n",
              " 'captcha_images_v2/677g3.png',\n",
              " 'captcha_images_v2/4exnn.png',\n",
              " 'captcha_images_v2/x775w.png',\n",
              " 'captcha_images_v2/xyncc.png',\n",
              " 'captcha_images_v2/yeyn4.png']"
            ]
          },
          "metadata": {},
          "execution_count": 22
        }
      ]
    },
    {
      "cell_type": "code",
      "source": [
        "batch_size = 32\n",
        "\n",
        "# 주어진 데이터소스를 여러 tensor로 자름  *tensor : 다차원\n",
        "train_dataset = tf.data.Dataset.from_tensor_slices((x_train, y_train))\n",
        "train_dataset = (\n",
        "    train_dataset.map(    #num_parallel_calls : 여러개의 스레드로 나눠서 속도 높여서 처리 가능 \n",
        "        encode_single_sample, num_parallel_calls=tf.data.experimental.AUTOTUNE\n",
        "    )\n",
        "    .batch(batch_size)\n",
        "    #prefecth --> 학습 데이터를 나눠서 읽어보기 떄문에 리소스의 유휴 상태를 줄일 수 있음\n",
        "    .prefetch(buffer_size=tf.data.experimental.AUTOTUNE)\n",
        ")\n",
        "\n",
        "validation_dataset = tf.data.Dataset.from_tensor_slices((x_val, y_val))\n",
        "validation_dataset = (\n",
        "    validation_dataset.map(\n",
        "        encode_single_sample, num_parallel_calls=tf.data.experimental.AUTOTUNE\n",
        "    )\n",
        "    .batch(batch_size)\n",
        "    .prefetch(buffer_size=tf.data.experimental.AUTOTUNE)\n",
        ")\n",
        "\n",
        "print(train_dataset)\n",
        "print(validation_dataset)"
      ],
      "metadata": {
        "colab": {
          "base_uri": "https://localhost:8080/"
        },
        "id": "gCc8iVHFbsOW",
        "outputId": "a894b4ae-7f12-43aa-a491-0119ace37c2d"
      },
      "execution_count": 24,
      "outputs": [
        {
          "output_type": "stream",
          "name": "stdout",
          "text": [
            "<PrefetchDataset element_spec={'image': TensorSpec(shape=(None, 200, 50, 1), dtype=tf.float32, name=None), 'label': TensorSpec(shape=(None, None), dtype=tf.int64, name=None)}>\n",
            "<PrefetchDataset element_spec={'image': TensorSpec(shape=(None, 200, 50, 1), dtype=tf.float32, name=None), 'label': TensorSpec(shape=(None, None), dtype=tf.int64, name=None)}>\n"
          ]
        }
      ]
    },
    {
      "cell_type": "markdown",
      "source": [
        "#model 생성"
      ],
      "metadata": {
        "id": "glmPAvCkiIiH"
      }
    },
    {
      "cell_type": "code",
      "source": [
        "class CTCLayer(layers.Layer):\n",
        "    def __init__(self, name=None):\n",
        "        super().__init__(name=name)\n",
        "        self.loss_fn = keras.backend.ctc_batch_cost\n",
        "\n",
        "    def call(self, y_true, y_pred):\n",
        "        # Compute the training-time loss value and add it\n",
        "        # to the layer using `self.add_loss()`.\n",
        "        batch_len = tf.cast(tf.shape(y_true)[0], dtype='int64')\n",
        "        input_length = tf.cast(tf.shape(y_pred)[1], dtype='int64')\n",
        "        label_length = tf.cast(tf.shape(y_true)[1], dtype='int64')\n",
        "\n",
        "        input_length = input_length * tf.ones(shape=(batch_len, 1), dtype='int64')\n",
        "        label_length = label_length * tf.ones(shape=(batch_len, 1), dtype='int64')\n",
        "\n",
        "        loss = self.loss_fn(y_true, y_pred, input_length, label_length)\n",
        "        self.add_loss(loss)\n",
        "\n",
        "        # At test time, just return the computed predictions\n",
        "        return y_pred\n",
        "\n",
        "def build_model():\n",
        "  input_img = layers.Input(\n",
        "      shape=(img_width, img_height, 1) , name='image' , dtype='float32' \n",
        "  )\n",
        "  labels = layers.Input(name='label', shape=(None,), dtype='float32')\n",
        "\n",
        "  x = layers.Conv2D(\n",
        "      32,\n",
        "      (3,3),\n",
        "      activation='relu',\n",
        "      kernel_initializer='he_normal',\n",
        "      padding = 'same',\n",
        "      name='Conv1',\n",
        "  )(input_img)\n",
        "  x = layers.MaxPooling2D((2,2) , name='poll1')(x)\n",
        "\n",
        "  x = layers.Conv2D(\n",
        "          64,\n",
        "          (3, 3),\n",
        "          activation='relu',\n",
        "          kernel_initializer='he_normal',\n",
        "          padding='same',\n",
        "          name='Conv2',\n",
        "      )(x)\n",
        "  x = layers.MaxPooling2D((2, 2), name='pool2')(x)\n",
        "\n",
        "  #maxpooling2로  2번 했기 때문에 2 * 2 \n",
        "  new_shape = ((img_width // 4), (img_height // 4) * 64)\n",
        "  x = layers.Reshape(target_shape=new_shape, name='reshape')(x)\n",
        "  x = layers.Dense(64, activation='relu', name='dense1')(x)\n",
        "  x = layers.Dropout(0.2)(x)\n",
        "\n",
        "  x = layers.Bidirectional(layers.LSTM(128, return_sequences=True, dropout=0.25))(x)\n",
        "  x = layers.Bidirectional(layers.LSTM(64, return_sequences=True, dropout=0.25))(x)\n",
        "\n",
        "  # Output layer +1을 하는 이유는 인식하지 못했을 경우를 추가하는것 \n",
        "  x = layers.Dense(\n",
        "      len(char_to_num.get_vocabulary()) + 1, activation='softmax', name='dense2'\n",
        "  )(x)\n",
        "\n",
        "  # Add CTC layer for calculating CTC loss at each step\n",
        "  output = CTCLayer(name='ctc_loss')(labels, x)\n",
        "\n",
        "  # Define the model\n",
        "  model = keras.models.Model(\n",
        "      inputs=[input_img, labels], outputs=output, name='ocr_model_v1'\n",
        "  )\n",
        "  # Optimizer\n",
        "  opt = keras.optimizers.Adam()\n",
        "  # Compile the model and return\n",
        "  model.compile(optimizer=opt)\n",
        "  return model\n",
        "\n",
        "\n",
        "# Get the model\n",
        "model = build_model()\n",
        "model.summary()\n",
        "\n",
        "\n"
      ],
      "metadata": {
        "colab": {
          "base_uri": "https://localhost:8080/"
        },
        "id": "r45TOAf3bsQi",
        "outputId": "052e35fb-7ca7-4808-da63-e8d75627e8cf"
      },
      "execution_count": 34,
      "outputs": [
        {
          "output_type": "stream",
          "name": "stdout",
          "text": [
            "Model: \"ocr_model_v1\"\n",
            "__________________________________________________________________________________________________\n",
            " Layer (type)                   Output Shape         Param #     Connected to                     \n",
            "==================================================================================================\n",
            " image (InputLayer)             [(None, 200, 50, 1)  0           []                               \n",
            "                                ]                                                                 \n",
            "                                                                                                  \n",
            " Conv1 (Conv2D)                 (None, 200, 50, 32)  320         ['image[0][0]']                  \n",
            "                                                                                                  \n",
            " poll1 (MaxPooling2D)           (None, 100, 25, 32)  0           ['Conv1[0][0]']                  \n",
            "                                                                                                  \n",
            " Conv2 (Conv2D)                 (None, 100, 25, 64)  18496       ['poll1[0][0]']                  \n",
            "                                                                                                  \n",
            " pool2 (MaxPooling2D)           (None, 50, 12, 64)   0           ['Conv2[0][0]']                  \n",
            "                                                                                                  \n",
            " reshape (Reshape)              (None, 50, 768)      0           ['pool2[0][0]']                  \n",
            "                                                                                                  \n",
            " dense1 (Dense)                 (None, 50, 64)       49216       ['reshape[0][0]']                \n",
            "                                                                                                  \n",
            " dropout_5 (Dropout)            (None, 50, 64)       0           ['dense1[0][0]']                 \n",
            "                                                                                                  \n",
            " bidirectional_10 (Bidirectiona  (None, 50, 256)     197632      ['dropout_5[0][0]']              \n",
            " l)                                                                                               \n",
            "                                                                                                  \n",
            " bidirectional_11 (Bidirectiona  (None, 50, 128)     164352      ['bidirectional_10[0][0]']       \n",
            " l)                                                                                               \n",
            "                                                                                                  \n",
            " label (InputLayer)             [(None, None)]       0           []                               \n",
            "                                                                                                  \n",
            " dense2 (Dense)                 (None, 50, 20)       2580        ['bidirectional_11[0][0]']       \n",
            "                                                                                                  \n",
            " ctc_loss (CTCLayer)            (None, 50, 20)       0           ['label[0][0]',                  \n",
            "                                                                  'dense2[0][0]']                 \n",
            "                                                                                                  \n",
            "==================================================================================================\n",
            "Total params: 432,596\n",
            "Trainable params: 432,596\n",
            "Non-trainable params: 0\n",
            "__________________________________________________________________________________________________\n"
          ]
        }
      ]
    },
    {
      "cell_type": "markdown",
      "source": [
        "# model train"
      ],
      "metadata": {
        "id": "FRetpANRmlNM"
      }
    },
    {
      "cell_type": "code",
      "source": [
        "early_stopping = keras.callbacks.EarlyStopping(\n",
        "    monitor='val_loss' , patience=10 , restore_best_weights=True\n",
        ")\n",
        "\n",
        "history = model.fit(\n",
        "    train_dataset,\n",
        "    validation_data=validation_dataset,\n",
        "    epochs=100,\n",
        "    callbacks=[early_stopping],\n",
        ")"
      ],
      "metadata": {
        "colab": {
          "base_uri": "https://localhost:8080/",
          "height": 397
        },
        "id": "Ex1p5bkbbsSg",
        "outputId": "827a913e-4e15-4e9b-8c33-f89acb6a0887"
      },
      "execution_count": 35,
      "outputs": [
        {
          "output_type": "error",
          "ename": "TypeError",
          "evalue": "ignored",
          "traceback": [
            "\u001b[0;31m---------------------------------------------------------------------------\u001b[0m",
            "\u001b[0;31mTypeError\u001b[0m                                 Traceback (most recent call last)",
            "\u001b[0;32m<ipython-input-35-a280adfd276b>\u001b[0m in \u001b[0;36m<module>\u001b[0;34m()\u001b[0m\n\u001b[1;32m      7\u001b[0m     \u001b[0mvalidation_data\u001b[0m\u001b[0;34m=\u001b[0m\u001b[0mvalidation_dataset\u001b[0m\u001b[0;34m,\u001b[0m\u001b[0;34m\u001b[0m\u001b[0;34m\u001b[0m\u001b[0m\n\u001b[1;32m      8\u001b[0m     \u001b[0mepochs\u001b[0m\u001b[0;34m=\u001b[0m\u001b[0;36m100\u001b[0m\u001b[0;34m,\u001b[0m\u001b[0;34m\u001b[0m\u001b[0;34m\u001b[0m\u001b[0m\n\u001b[0;32m----> 9\u001b[0;31m     \u001b[0mcallbackes\u001b[0m\u001b[0;34m=\u001b[0m\u001b[0;34m[\u001b[0m\u001b[0mearly_stopping\u001b[0m\u001b[0;34m]\u001b[0m\u001b[0;34m,\u001b[0m\u001b[0;34m\u001b[0m\u001b[0;34m\u001b[0m\u001b[0m\n\u001b[0m\u001b[1;32m     10\u001b[0m )\n",
            "\u001b[0;32m/usr/local/lib/python3.7/dist-packages/keras/utils/traceback_utils.py\u001b[0m in \u001b[0;36merror_handler\u001b[0;34m(*args, **kwargs)\u001b[0m\n\u001b[1;32m     65\u001b[0m     \u001b[0;32mexcept\u001b[0m \u001b[0mException\u001b[0m \u001b[0;32mas\u001b[0m \u001b[0me\u001b[0m\u001b[0;34m:\u001b[0m  \u001b[0;31m# pylint: disable=broad-except\u001b[0m\u001b[0;34m\u001b[0m\u001b[0;34m\u001b[0m\u001b[0m\n\u001b[1;32m     66\u001b[0m       \u001b[0mfiltered_tb\u001b[0m \u001b[0;34m=\u001b[0m \u001b[0m_process_traceback_frames\u001b[0m\u001b[0;34m(\u001b[0m\u001b[0me\u001b[0m\u001b[0;34m.\u001b[0m\u001b[0m__traceback__\u001b[0m\u001b[0;34m)\u001b[0m\u001b[0;34m\u001b[0m\u001b[0;34m\u001b[0m\u001b[0m\n\u001b[0;32m---> 67\u001b[0;31m       \u001b[0;32mraise\u001b[0m \u001b[0me\u001b[0m\u001b[0;34m.\u001b[0m\u001b[0mwith_traceback\u001b[0m\u001b[0;34m(\u001b[0m\u001b[0mfiltered_tb\u001b[0m\u001b[0;34m)\u001b[0m \u001b[0;32mfrom\u001b[0m \u001b[0;32mNone\u001b[0m\u001b[0;34m\u001b[0m\u001b[0;34m\u001b[0m\u001b[0m\n\u001b[0m\u001b[1;32m     68\u001b[0m     \u001b[0;32mfinally\u001b[0m\u001b[0;34m:\u001b[0m\u001b[0;34m\u001b[0m\u001b[0;34m\u001b[0m\u001b[0m\n\u001b[1;32m     69\u001b[0m       \u001b[0;32mdel\u001b[0m \u001b[0mfiltered_tb\u001b[0m\u001b[0;34m\u001b[0m\u001b[0;34m\u001b[0m\u001b[0m\n",
            "\u001b[0;32m/usr/local/lib/python3.7/dist-packages/keras/utils/traceback_utils.py\u001b[0m in \u001b[0;36merror_handler\u001b[0;34m(*args, **kwargs)\u001b[0m\n\u001b[1;32m     62\u001b[0m     \u001b[0mfiltered_tb\u001b[0m \u001b[0;34m=\u001b[0m \u001b[0;32mNone\u001b[0m\u001b[0;34m\u001b[0m\u001b[0;34m\u001b[0m\u001b[0m\n\u001b[1;32m     63\u001b[0m     \u001b[0;32mtry\u001b[0m\u001b[0;34m:\u001b[0m\u001b[0;34m\u001b[0m\u001b[0;34m\u001b[0m\u001b[0m\n\u001b[0;32m---> 64\u001b[0;31m       \u001b[0;32mreturn\u001b[0m \u001b[0mfn\u001b[0m\u001b[0;34m(\u001b[0m\u001b[0;34m*\u001b[0m\u001b[0margs\u001b[0m\u001b[0;34m,\u001b[0m \u001b[0;34m**\u001b[0m\u001b[0mkwargs\u001b[0m\u001b[0;34m)\u001b[0m\u001b[0;34m\u001b[0m\u001b[0;34m\u001b[0m\u001b[0m\n\u001b[0m\u001b[1;32m     65\u001b[0m     \u001b[0;32mexcept\u001b[0m \u001b[0mException\u001b[0m \u001b[0;32mas\u001b[0m \u001b[0me\u001b[0m\u001b[0;34m:\u001b[0m  \u001b[0;31m# pylint: disable=broad-except\u001b[0m\u001b[0;34m\u001b[0m\u001b[0;34m\u001b[0m\u001b[0m\n\u001b[1;32m     66\u001b[0m       \u001b[0mfiltered_tb\u001b[0m \u001b[0;34m=\u001b[0m \u001b[0m_process_traceback_frames\u001b[0m\u001b[0;34m(\u001b[0m\u001b[0me\u001b[0m\u001b[0;34m.\u001b[0m\u001b[0m__traceback__\u001b[0m\u001b[0;34m)\u001b[0m\u001b[0;34m\u001b[0m\u001b[0;34m\u001b[0m\u001b[0m\n",
            "\u001b[0;31mTypeError\u001b[0m: fit() got an unexpected keyword argument 'callbackes'"
          ]
        }
      ]
    },
    {
      "cell_type": "markdown",
      "source": [
        "# test 해보기"
      ],
      "metadata": {
        "id": "ZfUclG9UnHOD"
      }
    },
    {
      "cell_type": "code",
      "source": [
        "#예측모델 생성\n",
        "prediction_model = keras.models.Model(\n",
        "    model.get_layer(name='image').input, model.get_layer(name='dense2').output\n",
        ")\n",
        "\n",
        "def decode_batch_predictions(pred):\n",
        "    input_len = np.ones(pred.shape[0]) * pred.shape[1]\n",
        "    # Use greedy search. For complex tasks, you can use beam search\n",
        "    results = keras.backend.ctc_decode(pred, input_length=input_len, greedy=True)[0][0][\n",
        "        :, :max_length\n",
        "    ]\n",
        "    # Iterate over the results and get back the text\n",
        "    output_text = []\n",
        "    for res in results:\n",
        "        res = tf.strings.reduce_join(num_to_char(res)).numpy().decode('utf-8')\n",
        "        output_text.append(res)\n",
        "    return output_text\n",
        "\n",
        "for batch in validation_dataset.take(1):\n",
        "    batch_images = batch['image']\n",
        "\n",
        "    preds = prediction_model.predict(batch_images)\n",
        "    pred_texts = decode_batch_predictions(preds)\n",
        "\n",
        "    _, axes = plt.subplots(8, 4, figsize=(16, 12))\n",
        "\n",
        "    for img, text, ax in zip(batch_images, pred_texts, axes.flatten()):\n",
        "        img = img.numpy().squeeze()\n",
        "        img = img.T\n",
        "\n",
        "        ax.imshow(img, cmap='gray')\n",
        "        ax.set_title(text)\n",
        "        ax.set_axis_off()"
      ],
      "metadata": {
        "id": "N0iPesqCbsU1"
      },
      "execution_count": null,
      "outputs": []
    },
    {
      "cell_type": "code",
      "source": [
        ""
      ],
      "metadata": {
        "id": "2fL4yinTbsW2"
      },
      "execution_count": null,
      "outputs": []
    },
    {
      "cell_type": "code",
      "source": [
        ""
      ],
      "metadata": {
        "id": "_kz2uUGwbsZS"
      },
      "execution_count": null,
      "outputs": []
    },
    {
      "cell_type": "code",
      "source": [
        ""
      ],
      "metadata": {
        "id": "8ugdoj0XbsbM"
      },
      "execution_count": null,
      "outputs": []
    },
    {
      "cell_type": "code",
      "source": [
        ""
      ],
      "metadata": {
        "id": "bpIZUDKgbscx"
      },
      "execution_count": null,
      "outputs": []
    },
    {
      "cell_type": "code",
      "source": [
        ""
      ],
      "metadata": {
        "id": "Oz3TEwl8PUpt"
      },
      "execution_count": null,
      "outputs": []
    },
    {
      "cell_type": "code",
      "source": [
        ""
      ],
      "metadata": {
        "id": "Kh5TSYZYPUsw"
      },
      "execution_count": null,
      "outputs": []
    }
  ]
}